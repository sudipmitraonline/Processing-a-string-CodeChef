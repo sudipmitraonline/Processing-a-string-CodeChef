{
 "cells": [
  {
   "cell_type": "markdown",
   "metadata": {},
   "source": [
    "### PROCESSING A STRING - CodeChef Problem \n",
    "\n",
    "### Given an alphanumeric string made up of digits and lower case Latin characters only, find the sum of all the digit characters in the string.\n",
    "\n",
    "### Input\n",
    "The first line of the input contains an integer T denoting the number of test cases. Then T test cases follow.\n",
    "Each test case is described with a single line containing a string S, the alphanumeric string.\n",
    "\n",
    "### Output\n",
    "For each test case, output a single line containing the sum of all the digit characters in that string.\n",
    "Constraints\n",
    "\n",
    "### Example\n",
    "Input:\n",
    "1\n",
    "\n",
    "ab1231da\n",
    "\n",
    "\n",
    "\n",
    "Output:\n",
    "\n",
    "7\n",
    "\n",
    "### Explanation\n",
    "The digits in this string are 1, 2, 3 and 1. Hence, the sum of all of them is 7."
   ]
  },
  {
   "cell_type": "code",
   "execution_count": 15,
   "metadata": {
    "scrolled": true
   },
   "outputs": [
    {
     "name": "stdout",
     "output_type": "stream",
     "text": [
      "4\n",
      "122abc122ABC122\n",
      "15\n",
      "gkl475yyk\n",
      "16\n",
      "qwe753mkl\n",
      "15\n",
      "yzy112poi\n",
      "4\n"
     ]
    }
   ],
   "source": [
    "#@Author : Sudip Mitra\n",
    "for index in range(int(input())):\n",
    "    s=list(input().strip())\n",
    "    summ=0\n",
    "    for i in range(len(s)):\n",
    "        if s[i].isdigit():\n",
    "            summ=summ+int(s[i])\n",
    "    print(summ)"
   ]
  }
 ],
 "metadata": {
  "kernelspec": {
   "display_name": "Python 3",
   "language": "python",
   "name": "python3"
  },
  "language_info": {
   "codemirror_mode": {
    "name": "ipython",
    "version": 3
   },
   "file_extension": ".py",
   "mimetype": "text/x-python",
   "name": "python",
   "nbconvert_exporter": "python",
   "pygments_lexer": "ipython3",
   "version": "3.7.0"
  }
 },
 "nbformat": 4,
 "nbformat_minor": 4
}
